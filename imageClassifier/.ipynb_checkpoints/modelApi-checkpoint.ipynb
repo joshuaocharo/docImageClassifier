{
 "cells": [
  {
   "cell_type": "markdown",
   "metadata": {
    "colab_type": "text",
    "id": "Gq-V6cAJ_gGK"
   },
   "source": [
    "# Import Resources\n",
    "\n"
   ]
  },
  {
   "cell_type": "code",
   "execution_count": 9,
   "metadata": {
    "colab": {
     "base_uri": "https://localhost:8080/",
     "height": 34
    },
    "colab_type": "code",
    "id": "7_fkvi3K_gGR",
    "outputId": "753620cd-2db4-4467-fb2c-1d12fc51ff34"
   },
   "outputs": [
    {
     "name": "stdout",
     "output_type": "stream",
     "text": [
      "Using TensorFlow Version: 2.7.0\n"
     ]
    }
   ],
   "source": [
    "import tensorflow as tf\n",
    "\n",
    "\n",
    "print('Using TensorFlow Version:', tf.__version__)"
   ]
  },
  {
   "cell_type": "markdown",
   "metadata": {
    "colab_type": "text",
    "id": "UY6KJV6z6l7_"
   },
   "source": [
    "## Explore the Example Data\n"
   ]
  },
  {
   "cell_type": "markdown",
   "metadata": {
    "colab_type": "text",
    "id": "9brUxyTpYZHy"
   },
   "source": [
    "The following python code will use the OS library to use Operating System libraries, giving you access to the file system, and the zipfile library allowing you to unzip the data. "
   ]
  },
  {
   "cell_type": "code",
   "execution_count": 10,
   "metadata": {
    "colab": {},
    "colab_type": "code",
    "id": "MLZKVtE0dSfk"
   },
   "outputs": [],
   "source": [
    "import os\n",
    "base_dir = r'C:\\Users\\joshu\\Documents\\GitHub\\Document-Classification-Using-CNN\\dataset'\n",
    "\n",
    "train_dir = os.path.join(base_dir, 'training_set')\n",
    "testing_dir = os.path.join(base_dir, 'testing_set')\n",
    "\n",
    "# Directory with our training pictures\n",
    "train_id_dir = os.path.join(train_dir, 'identity_card')\n",
    "train_passport_dir = os.path.join(train_dir, 'passport')\n",
    "# Directory with our validation cat/dog pictures\n",
    "testing_id_dir = os.path.join(testing_dir, 'identity_card')\n",
    "testing_passport_dir = os.path.join(testing_dir, 'passport')\n"
   ]
  },
  {
   "cell_type": "markdown",
   "metadata": {
    "colab_type": "text",
    "id": "HlqN5KbafhLI"
   },
   "source": [
    "Let's find out the total number of cat and dog images in the `train` and `validation` directories:"
   ]
  },
  {
   "cell_type": "code",
   "execution_count": 11,
   "metadata": {
    "colab": {
     "base_uri": "https://localhost:8080/",
     "height": 85
    },
    "colab_type": "code",
    "id": "H4XHh2xSfgie",
    "outputId": "a14e8d08-884b-4f1a-b123-46033c60af2d"
   },
   "outputs": [
    {
     "name": "stdout",
     "output_type": "stream",
     "text": [
      "total training ID images : 124\n",
      "total training Passport images : 120\n",
      "total validation ID images : 31\n",
      "total validation Passport images : 30\n"
     ]
    }
   ],
   "source": [
    "print('total training ID images :', len(os.listdir( train_id_dir) ))\n",
    "print('total training Passport images :', len(os.listdir(  train_passport_dir) ))\n",
    "\n",
    "print('total validation ID images :', len(os.listdir( testing_id_dir ) ))\n",
    "print('total validation Passport images :', len(os.listdir( testing_passport_dir ) ))"
   ]
  },
  {
   "cell_type": "code",
   "execution_count": 12,
   "metadata": {
    "colab": {
     "base_uri": "https://localhost:8080/",
     "height": 51
    },
    "colab_type": "code",
    "id": "ClebU9NJg99G",
    "outputId": "5c0a0ec6-0887-4c62-9a5a-d72da2a6aea2"
   },
   "outputs": [
    {
     "name": "stdout",
     "output_type": "stream",
     "text": [
      "Found 244 images belonging to 2 classes.\n",
      "Found 61 images belonging to 2 classes.\n"
     ]
    }
   ],
   "source": [
    "from tensorflow.keras.preprocessing.image import ImageDataGenerator\n",
    "\n",
    "IMAGE_WIDTH = 128\n",
    "IMAGE_HEIGHT = 128\n",
    "IMAGE_CHANNELS = 3\n",
    "INPUT_SHAPE = (IMAGE_WIDTH, IMAGE_HEIGHT, IMAGE_CHANNELS)\n",
    "EPOCHS = 35\n",
    "POOL_SIZE = 2\n",
    "LR = 0.001\n",
    "\n",
    "# All images will be rescaled by 1./255.\n",
    "train_datagen = ImageDataGenerator( rescale = 1.0/255,\n",
    "    shear_range=0.2,\n",
    "    zoom_range=0.2,\n",
    "    horizontal_flip=True,\n",
    "    fill_mode='nearest',\n",
    "    width_shift_range=0.2,\n",
    "    height_shift_range=0.2 )\n",
    "test_datagen  = ImageDataGenerator( rescale = 1.0/255 )\n",
    "\n",
    "# --------------------\n",
    "# Flow training images in batches of 20 using train_datagen generator\n",
    "# --------------------\n",
    "train_generator = train_datagen.flow_from_directory(train_dir,\n",
    "                                                    batch_size=32,\n",
    "                                                    shuffle=True,\n",
    "                                                    class_mode='binary',\n",
    "                                                    seed=42,\n",
    "                                                    target_size=(128, 128))     \n",
    "# --------------------\n",
    "# Flow validation images in batches of 20 using test_datagen generator\n",
    "# --------------------\n",
    "test_generator =  test_datagen.flow_from_directory(testing_dir,\n",
    "                                                   batch_size=1,\n",
    "                                                   shuffle=False,\n",
    "                                                   class_mode  = 'binary',\n",
    "                                                   target_size = (128, 128))\n"
   ]
  },
  {
   "cell_type": "markdown",
   "metadata": {
    "colab_type": "text",
    "id": "5oqBkNBJmtUv"
   },
   "source": [
    "## Building the Model\n"
   ]
  },
  {
   "cell_type": "code",
   "execution_count": 17,
   "metadata": {},
   "outputs": [],
   "source": [
    "import time\n",
    "\n",
    "from keras.models import Sequential\n",
    "from keras.layers import Conv2D, MaxPooling2D, Flatten, Dense, Dropout, Activation\n",
    "from keras.callbacks import EarlyStopping, ReduceLROnPlateau, ModelCheckpoint\n",
    "from tensorflow.keras.callbacks import TensorBoard\n",
    "\n",
    "# Use EarlyStopping and ReduceLROnPlateau\n",
    "# when train, it keep testing set separetely and if the error is not improve for 5 times, training stop\n",
    "earlystop = EarlyStopping(monitor='val_loss', patience=5, verbose=0)\n",
    "\n",
    "# Save the best weight for epoch checkpoint\n",
    "checkpointer = ModelCheckpoint(filepath = \"best_weight.hdf5\", monitor='val_loss', verbose=0, save_best_only=True)"
   ]
  },
  {
   "cell_type": "code",
   "execution_count": 4,
   "metadata": {
    "colab": {},
    "colab_type": "code",
    "id": "PixZ2s5QbYQ3"
   },
   "outputs": [],
   "source": [
    "model = tf.keras.models.Sequential([\n",
    "    # Note the input shape is the desired size of the image 150x150 with 3 bytes color\n",
    "    tf.keras.layers.Conv2D(64, (3,3), activation='relu', input_shape=(128, 128, 3)),\n",
    "    tf.keras.layers.MaxPooling2D(2,2),\n",
    "    tf.keras.layers.Conv2D(64, (3,3), activation='relu'),\n",
    "    tf.keras.layers.MaxPooling2D(2,2),\n",
    "    # Flatten the results to feed into a CNN\n",
    "    tf.keras.layers.Flatten(), \n",
    "    # 512 neuron hidden layer\n",
    "    tf.keras.layers.Dense(64, activation='relu'), \n",
    "    # Only 1 output neuron. It will contain a value from 0-1 where 0 for 1 class ('ID') and 1 for the other ('Passport')\n",
    "    tf.keras.layers.Dense(1, activation='sigmoid')  \n",
    "])"
   ]
  },
  {
   "cell_type": "markdown",
   "metadata": {
    "colab_type": "text",
    "id": "s9EaFDP5srBa"
   },
   "source": [
    "The `model.summary()` method call prints a summary of the NN "
   ]
  },
  {
   "cell_type": "code",
   "execution_count": 5,
   "metadata": {
    "colab": {
     "base_uri": "https://localhost:8080/",
     "height": 459
    },
    "colab_type": "code",
    "id": "7ZKj8392nbgP",
    "outputId": "ff9695dd-6350-4efd-e241-225fbd581743"
   },
   "outputs": [
    {
     "name": "stdout",
     "output_type": "stream",
     "text": [
      "Model: \"sequential\"\n",
      "_________________________________________________________________\n",
      " Layer (type)                Output Shape              Param #   \n",
      "=================================================================\n",
      " conv2d (Conv2D)             (None, 126, 126, 64)      1792      \n",
      "                                                                 \n",
      " max_pooling2d (MaxPooling2D  (None, 63, 63, 64)       0         \n",
      " )                                                               \n",
      "                                                                 \n",
      " conv2d_1 (Conv2D)           (None, 61, 61, 64)        36928     \n",
      "                                                                 \n",
      " max_pooling2d_1 (MaxPooling  (None, 30, 30, 64)       0         \n",
      " 2D)                                                             \n",
      "                                                                 \n",
      " flatten (Flatten)           (None, 57600)             0         \n",
      "                                                                 \n",
      " dense (Dense)               (None, 64)                3686464   \n",
      "                                                                 \n",
      " dense_1 (Dense)             (None, 1)                 65        \n",
      "                                                                 \n",
      "=================================================================\n",
      "Total params: 3,725,249\n",
      "Trainable params: 3,725,249\n",
      "Non-trainable params: 0\n",
      "_________________________________________________________________\n"
     ]
    }
   ],
   "source": [
    "model.summary()"
   ]
  },
  {
   "cell_type": "code",
   "execution_count": 6,
   "metadata": {
    "colab": {},
    "colab_type": "code",
    "id": "8DHWhFP_uhq3"
   },
   "outputs": [],
   "source": [
    "from tensorflow.keras.optimizers import RMSprop\n",
    "\n",
    "model.compile(optimizer=RMSprop(learning_rate=0.001),\n",
    "              loss='binary_crossentropy',\n",
    "              metrics = ['accuracy'])"
   ]
  },
  {
   "cell_type": "markdown",
   "metadata": {
    "colab_type": "text",
    "id": "Sn9m9D3UimHM"
   },
   "source": [
    "### Data Preprocessing"
   ]
  },
  {
   "cell_type": "markdown",
   "metadata": {
    "colab_type": "text",
    "id": "mu3Jdwkjwax4"
   },
   "source": [
    "### Training"
   ]
  },
  {
   "cell_type": "code",
   "execution_count": 8,
   "metadata": {
    "colab": {
     "base_uri": "https://localhost:8080/",
     "height": 527
    },
    "colab_type": "code",
    "id": "Fb1_lgobv81m",
    "outputId": "c2d50f81-53d0-4027-ea67-86f7e6137178"
   },
   "outputs": [
    {
     "name": "stdout",
     "output_type": "stream",
     "text": [
      "Epoch 1/25\n",
      "2/2 - 5s - loss: 6.2253 - accuracy: 0.5469 - val_loss: 1.5808 - val_accuracy: 0.5167 - 5s/epoch - 3s/step\n",
      "Epoch 2/25\n",
      "2/2 - 3s - loss: 1.1090 - accuracy: 0.5000 - val_loss: 0.7023 - val_accuracy: 0.4833 - 3s/epoch - 2s/step\n",
      "Epoch 3/25\n",
      "2/2 - 3s - loss: 0.7965 - accuracy: 0.4062 - val_loss: 0.6880 - val_accuracy: 0.5167 - 3s/epoch - 2s/step\n",
      "Epoch 4/25\n",
      "2/2 - 3s - loss: 0.6848 - accuracy: 0.5781 - val_loss: 0.6831 - val_accuracy: 0.5167 - 3s/epoch - 1s/step\n",
      "Epoch 5/25\n",
      "2/2 - 3s - loss: 0.6936 - accuracy: 0.5156 - val_loss: 0.6837 - val_accuracy: 0.5333 - 3s/epoch - 2s/step\n",
      "Epoch 6/25\n",
      "2/2 - 3s - loss: 0.6666 - accuracy: 0.6406 - val_loss: 1.1292 - val_accuracy: 0.5167 - 3s/epoch - 2s/step\n",
      "Epoch 7/25\n",
      "2/2 - 3s - loss: 0.7424 - accuracy: 0.5938 - val_loss: 0.7217 - val_accuracy: 0.4833 - 3s/epoch - 2s/step\n",
      "Epoch 8/25\n",
      "2/2 - 3s - loss: 0.6977 - accuracy: 0.5156 - val_loss: 0.6894 - val_accuracy: 0.4833 - 3s/epoch - 2s/step\n",
      "Epoch 9/25\n",
      "2/2 - 3s - loss: 0.6817 - accuracy: 0.5469 - val_loss: 0.6737 - val_accuracy: 0.7333 - 3s/epoch - 2s/step\n",
      "Epoch 10/25\n",
      "2/2 - 3s - loss: 0.6707 - accuracy: 0.6731 - val_loss: 0.7086 - val_accuracy: 0.5167 - 3s/epoch - 1s/step\n",
      "Epoch 11/25\n",
      "2/2 - 3s - loss: 0.6866 - accuracy: 0.6250 - val_loss: 0.6894 - val_accuracy: 0.5167 - 3s/epoch - 2s/step\n",
      "Epoch 12/25\n",
      "2/2 - 3s - loss: 0.6554 - accuracy: 0.6154 - val_loss: 0.6664 - val_accuracy: 0.6500 - 3s/epoch - 1s/step\n",
      "Epoch 13/25\n",
      "2/2 - 4s - loss: 0.6360 - accuracy: 0.8281 - val_loss: 0.6479 - val_accuracy: 0.6000 - 4s/epoch - 2s/step\n",
      "Epoch 14/25\n",
      "2/2 - 3s - loss: 0.9428 - accuracy: 0.5938 - val_loss: 0.6730 - val_accuracy: 0.5167 - 3s/epoch - 2s/step\n",
      "Epoch 15/25\n",
      "2/2 - 3s - loss: 0.6622 - accuracy: 0.5625 - val_loss: 0.6343 - val_accuracy: 0.7167 - 3s/epoch - 2s/step\n",
      "Epoch 16/25\n",
      "2/2 - 3s - loss: 0.6084 - accuracy: 0.7308 - val_loss: 0.8625 - val_accuracy: 0.5333 - 3s/epoch - 1s/step\n",
      "Epoch 17/25\n",
      "2/2 - 3s - loss: 0.8699 - accuracy: 0.4062 - val_loss: 0.6739 - val_accuracy: 0.7000 - 3s/epoch - 2s/step\n",
      "Epoch 18/25\n",
      "2/2 - 4s - loss: 0.6637 - accuracy: 0.7031 - val_loss: 0.6422 - val_accuracy: 0.7833 - 4s/epoch - 2s/step\n",
      "Epoch 19/25\n",
      "2/2 - 3s - loss: 0.6465 - accuracy: 0.7500 - val_loss: 0.7079 - val_accuracy: 0.5000 - 3s/epoch - 1s/step\n",
      "Epoch 20/25\n",
      "2/2 - 3s - loss: 0.6469 - accuracy: 0.5769 - val_loss: 0.6907 - val_accuracy: 0.5000 - 3s/epoch - 1s/step\n",
      "Epoch 21/25\n",
      "2/2 - 3s - loss: 0.6385 - accuracy: 0.5769 - val_loss: 0.6520 - val_accuracy: 0.7000 - 3s/epoch - 2s/step\n",
      "Epoch 22/25\n",
      "2/2 - 3s - loss: 0.6146 - accuracy: 0.7656 - val_loss: 0.6115 - val_accuracy: 0.7000 - 3s/epoch - 2s/step\n",
      "Epoch 23/25\n",
      "2/2 - 3s - loss: 0.5988 - accuracy: 0.6719 - val_loss: 0.7928 - val_accuracy: 0.5000 - 3s/epoch - 2s/step\n",
      "Epoch 24/25\n",
      "2/2 - 3s - loss: 0.7131 - accuracy: 0.5769 - val_loss: 0.6155 - val_accuracy: 0.7000 - 3s/epoch - 1s/step\n",
      "Epoch 25/25\n",
      "2/2 - 3s - loss: 0.5746 - accuracy: 0.6875 - val_loss: 0.5304 - val_accuracy: 0.7833 - 3s/epoch - 2s/step\n"
     ]
    }
   ],
   "source": [
    "history = model.fit(train_generator,\n",
    "                              validation_data=test_generator,\n",
    "                              steps_per_epoch= 2,\n",
    "                              epochs=25,\n",
    "                              validation_steps=60,\n",
    "                              verbose=2)"
   ]
  },
  {
   "cell_type": "markdown",
   "metadata": {
    "colab_type": "text",
    "id": "Q5Vulban4ZrD"
   },
   "source": [
    "### Evaluating Accuracy and Loss for the Model\n",
    "\n",
    "Let's plot the training/validation accuracy and loss as collected during training:"
   ]
  },
  {
   "cell_type": "code",
   "execution_count": 12,
   "metadata": {},
   "outputs": [
    {
     "data": {
      "text/plain": [
       "{'identity_card': 0, 'passport': 1}"
      ]
     },
     "execution_count": 12,
     "metadata": {},
     "output_type": "execute_result"
    }
   ],
   "source": [
    "train_generator.class_indices"
   ]
  },
  {
   "cell_type": "code",
   "execution_count": 84,
   "metadata": {
    "colab": {
     "base_uri": "https://localhost:8080/",
     "height": 562
    },
    "colab_type": "code",
    "id": "0oj0gTIy4k60",
    "outputId": "9e2ccadf-8130-4e8b-93f0-b672406b74c0"
   },
   "outputs": [
    {
     "data": {
      "text/plain": [
       "Text(0.5, 1.0, 'Training and validation loss')"
      ]
     },
     "execution_count": 84,
     "metadata": {},
     "output_type": "execute_result"
    },
    {
     "data": {
      "image/png": "[encoded data removed]",
      "text/plain": [
       "<Figure size 432x288 with 1 Axes>"
      ]
     },
     "metadata": {
      "needs_background": "light"
     },
     "output_type": "display_data"
    },
    {
     "data": {
      "image/png": "[encoded data removed]",
      "text/plain": [
       "<Figure size 432x288 with 1 Axes>"
      ]
     },
     "metadata": {
      "needs_background": "light"
     },
     "output_type": "display_data"
    }
   ],
   "source": [
    "#-----------------------------------------------------------\n",
    "# Retrieve a list of list results on training and test data\n",
    "# sets for each training epoch\n",
    "#-----------------------------------------------------------\n",
    "acc      = history.history['accuracy']\n",
    "val_acc  = history.history['val_accuracy']\n",
    "loss     = history.history['loss']\n",
    "val_loss = history.history['val_loss']\n",
    "\n",
    "epochs   = range(len(acc)) # Get number of epochs\n",
    "\n",
    "#------------------------------------------------\n",
    "# Plot training and validation accuracy per epoch\n",
    "#------------------------------------------------\n",
    "plt.plot  ( epochs,     acc, label='Training')\n",
    "plt.plot  ( epochs, val_acc, label='Validation')\n",
    "plt.title ('Training and validation accuracy')\n",
    "plt.legend()\n",
    "plt.figure()\n",
    "\n",
    "#------------------------------------------------\n",
    "# Plot training and validation loss per epoch\n",
    "#------------------------------------------------\n",
    "plt.plot  ( epochs,     loss, label='Training')\n",
    "plt.plot  ( epochs, val_loss, label='Validation')\n",
    "plt.legend()\n",
    "plt.title ('Training and validation loss')"
   ]
  },
  {
   "cell_type": "markdown",
   "metadata": {
    "colab_type": "text",
    "id": "smI2o8rbNlEr"
   },
   "source": [
    "## Save the Model\n",
    "\n",
    "\n"
   ]
  },
  {
   "cell_type": "code",
   "execution_count": 85,
   "metadata": {
    "colab": {},
    "colab_type": "code",
    "id": "a8LBu8zgNn-z"
   },
   "outputs": [],
   "source": [
    "# Save the trained model as a Keras HDF5 file. \n",
    "\n",
    "saved_model_path = \"./my_model.h5\"\n",
    "model.save(saved_model_path)"
   ]
  },
  {
   "cell_type": "markdown",
   "metadata": {
    "colab_type": "text",
    "id": "uzDtTYpxeAzR"
   },
   "source": [
    "## Run the TensorFlow.js Converter on The Saved Keras Model\n",
    "\n"
   ]
  },
  {
   "cell_type": "code",
   "execution_count": 86,
   "metadata": {
    "colab": {},
    "colab_type": "code",
    "id": "_r5jrUuKNe73"
   },
   "outputs": [
    {
     "name": "stderr",
     "output_type": "stream",
     "text": [
      "2022-01-24 22:59:58.335608: W tensorflow/stream_executor/platform/default/dso_loader.cc:64] Could not load dynamic library 'cudart64_110.dll'; dlerror: cudart64_110.dll not found\n",
      "2022-01-24 22:59:58.335656: I tensorflow/stream_executor/cuda/cudart_stub.cc:29] Ignore above cudart dlerror if you do not have a GPU set up on your machine.\n"
     ]
    }
   ],
   "source": [
    "# Use the tensorflow.js converter to convert the saved Keras model into JSON format.\n",
    "! tensorflowjs_converter --input_format=keras {saved_model_path} \"./\""
   ]
  }
 ],
 "metadata": {
  "accelerator": "GPU",
  "colab": {
   "collapsed_sections": [],
   "name": "Training and converting to js.ipynb",
   "provenance": []
  },
  "kernelspec": {
   "display_name": "Python 3 (ipykernel)",
   "language": "python",
   "name": "python3"
  },
  "language_info": {
   "codemirror_mode": {
    "name": "ipython",
    "version": 3
   },
   "file_extension": ".py",
   "mimetype": "text/x-python",
   "name": "python",
   "nbconvert_exporter": "python",
   "pygments_lexer": "ipython3",
   "version": "3.8.0"
  }
 },
 "nbformat": 4,
 "nbformat_minor": 1
}
